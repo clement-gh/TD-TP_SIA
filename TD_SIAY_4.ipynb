{
  "cells": [
    {
      "cell_type": "code",
      "execution_count": 1,
      "metadata": {
        "colab": {
          "base_uri": "https://localhost:8080/",
          "height": 678
        },
        "id": "v4Vi0xfFBBkM",
        "outputId": "6c3051aa-f3eb-4831-a711-1a19900444a5"
      },
      "outputs": [
        {
          "name": "stdout",
          "output_type": "stream",
          "text": [
            "Downloading http://yann.lecun.com/exdb/mnist/train-images-idx3-ubyte.gz\n",
            "Downloading http://yann.lecun.com/exdb/mnist/train-images-idx3-ubyte.gz to data/MNIST/raw/train-images-idx3-ubyte.gz\n"
          ]
        },
        {
          "name": "stderr",
          "output_type": "stream",
          "text": [
            "100%|██████████| 9912422/9912422 [00:00<00:00, 112375898.71it/s]\n"
          ]
        },
        {
          "name": "stdout",
          "output_type": "stream",
          "text": [
            "Extracting data/MNIST/raw/train-images-idx3-ubyte.gz to data/MNIST/raw\n",
            "\n",
            "Downloading http://yann.lecun.com/exdb/mnist/train-labels-idx1-ubyte.gz\n",
            "Downloading http://yann.lecun.com/exdb/mnist/train-labels-idx1-ubyte.gz to data/MNIST/raw/train-labels-idx1-ubyte.gz\n"
          ]
        },
        {
          "name": "stderr",
          "output_type": "stream",
          "text": [
            "100%|██████████| 28881/28881 [00:00<00:00, 20341846.15it/s]\n"
          ]
        },
        {
          "name": "stdout",
          "output_type": "stream",
          "text": [
            "Extracting data/MNIST/raw/train-labels-idx1-ubyte.gz to data/MNIST/raw\n",
            "\n",
            "Downloading http://yann.lecun.com/exdb/mnist/t10k-images-idx3-ubyte.gz\n",
            "Downloading http://yann.lecun.com/exdb/mnist/t10k-images-idx3-ubyte.gz to data/MNIST/raw/t10k-images-idx3-ubyte.gz\n"
          ]
        },
        {
          "name": "stderr",
          "output_type": "stream",
          "text": [
            "100%|██████████| 1648877/1648877 [00:00<00:00, 27703458.57it/s]\n"
          ]
        },
        {
          "name": "stdout",
          "output_type": "stream",
          "text": [
            "Extracting data/MNIST/raw/t10k-images-idx3-ubyte.gz to data/MNIST/raw\n",
            "\n",
            "Downloading http://yann.lecun.com/exdb/mnist/t10k-labels-idx1-ubyte.gz\n",
            "Downloading http://yann.lecun.com/exdb/mnist/t10k-labels-idx1-ubyte.gz to data/MNIST/raw/t10k-labels-idx1-ubyte.gz\n"
          ]
        },
        {
          "name": "stderr",
          "output_type": "stream",
          "text": [
            "100%|██████████| 4542/4542 [00:00<00:00, 3361067.18it/s]\n"
          ]
        },
        {
          "name": "stdout",
          "output_type": "stream",
          "text": [
            "Extracting data/MNIST/raw/t10k-labels-idx1-ubyte.gz to data/MNIST/raw\n",
            "\n",
            "Dataset MNIST\n",
            "    Number of datapoints: 60000\n",
            "    Root location: data\n",
            "    Split: Train\n",
            "    StandardTransform\n",
            "Transform: ToTensor()\n",
            "Dataset MNIST\n",
            "    Number of datapoints: 10000\n",
            "    Root location: data\n",
            "    Split: Test\n",
            "    StandardTransform\n",
            "Transform: ToTensor()\n"
          ]
        },
        {
          "data": {
            "application/vnd.google.colaboratory.intrinsic+json": {
              "type": "string"
            },
            "text/plain": [
              "\"\\nfor epoch in range(num_epochs):\\n    for i, (images, _) in enumerate(loaders['train']):\\n        images = images.to(device)  # Move data to the GPU if available\\n        optimizer.zero_grad()\\n        outputs = model(images)\\n        loss = loss_func(outputs, images)\\n        loss.backward()\\n        optimizer.step()\\n        if (i+1) % 100 == 0:\\n            print('Epoch [%d/%d], Iter [%d/%d] Loss: %.4f'\\n                  % (epoch+1, num_epochs, i+1, len(train_data)//batch_size, loss.item()))\\n\\n# Testing\\nmodel.eval()\\nfor images, _ in loaders['test']:\\n    images = images.to(device)  # Move data to the GPU if available\\n    outputs = model(images)\\n    break\\n\\n# Move outputs and images back to CPU for visualization (if necessary)\\noutputs = outputs.cpu().data.numpy()\\nimages = images.cpu().data.numpy()\\n\\nprint (outputs.shape)\\nprint (images.shape)\\nn = 10\\nplt.figure(figsize=(20, 4))\\nfor i in range(n):\\n    ax = plt.subplot(2, n, i+1)\\n    plt.imshow(images[i][0], cmap='gray')\\n    ax.get_xaxis().set_visible(False)\\n    ax.get_yaxis().set_visible(False)\\n\\n    ax = plt.subplot(2, n, i+1+n)\\n    plt.imshow(outputs[i][0], cmap='gray')\\n    ax.get_xaxis().set_visible(False)\\n    ax.get_yaxis().set_visible(False)\\nplt.show()\\n\\n### Save the model checkpoint\\n\""
            ]
          },
          "execution_count": 1,
          "metadata": {},
          "output_type": "execute_result"
        }
      ],
      "source": [
        "import torch\n",
        "import torch.nn as nn\n",
        "import matplotlib.pyplot as plt\n",
        "from torchvision import datasets\n",
        "from torchvision.transforms import ToTensor\n",
        "import numpy as np\n",
        "device = torch.device(\"cuda\" if torch.cuda.is_available() else \"cpu\")\n",
        "\n",
        "\n",
        "\n",
        "train_data = datasets.MNIST(\n",
        "    root = 'data',\n",
        "    train = True,\n",
        "    transform = ToTensor(),\n",
        "    download = True,\n",
        ")\n",
        "test_data = datasets.MNIST(\n",
        "    root = 'data',\n",
        "    train = False,\n",
        "    transform = ToTensor()\n",
        ")\n",
        "print (train_data)\n",
        "print (test_data)\n",
        "num_epochs = 20\n",
        "batch_size = 128\n",
        "\n",
        "learning_rate = 0.001\n",
        "from torch.utils.data import DataLoader\n",
        "loaders = {\n",
        "    'train' : torch.utils.data.DataLoader(train_data,\n",
        "                                          batch_size=batch_size,\n",
        "                                          shuffle=True,\n",
        "                                          num_workers=1),\n",
        "\n",
        "    'test'  : torch.utils.data.DataLoader(test_data,\n",
        "                                          batch_size=batch_size,\n",
        "                                          shuffle=False,\n",
        "                                          num_workers=1),\n",
        "}\n",
        "loaders\n",
        "### Encoder\n",
        "#creation using\n",
        "\n",
        "#Conv2D, MaxPooling2D,Conv2D, MaxPooling2D,Conv2D, MaxPooling2D\n",
        "###\n",
        "\n",
        "class Encoder(nn.Module):\n",
        "    def __init__(self):\n",
        "        super(Encoder, self).__init__()\n",
        "        self.conv1 = nn.Conv2d(in_channels=1, out_channels=16, kernel_size=3, padding=1)\n",
        "        self.conv2 = nn.Conv2d(in_channels=16, out_channels=8, kernel_size=3, padding=1)\n",
        "        self.conv3 = nn.Conv2d(in_channels=8, out_channels=8, kernel_size=3, padding=1)\n",
        "        self.pool = nn.MaxPool2d(kernel_size=2, stride=2)\n",
        "\n",
        "    def forward(self, x):\n",
        "        x = self.conv1(x)\n",
        "        x = nn.ReLU()(x)\n",
        "        x = self.pool(x)\n",
        "        x = self.conv2(x)\n",
        "        x = nn.ReLU()(x)\n",
        "        x = self.pool(x)\n",
        "        x = self.conv3(x)\n",
        "        x = nn.ReLU()(x)\n",
        "        x = self.pool(x)\n",
        "        return x\n",
        "###Decoder creation using:\n",
        "\n",
        "#Conv2D, UpSampling2D,Conv2D, UpSampling2D,Conv2D, UpSampling2D,Final Conv2D to get image\n",
        "\n",
        "class Decoder (nn.Module):\n",
        "    def __init__(self):\n",
        "        super(Decoder, self).__init__()\n",
        "        self.conv1 = nn.ConvTranspose2d(in_channels=8, out_channels=8, kernel_size=3,stride=2, padding=1, output_padding=1)\n",
        "        self.conv2 = nn.ConvTranspose2d(in_channels=8, out_channels=8, kernel_size=3,stride=2, padding=1, output_padding=1)\n",
        "        self.conv3 = nn.ConvTranspose2d(in_channels=8, out_channels=16, kernel_size=3,stride=2, padding=0, output_padding=1)\n",
        "        self.conv4 = nn.ConvTranspose2d(in_channels=16, out_channels=1, kernel_size=3,padding=0)\n",
        "        self.upsample = nn.Upsample(scale_factor=2, mode='bilinear')\n",
        "        self.batch_norm = nn.BatchNorm2d(1)\n",
        "\n",
        "    def forward(self, x):\n",
        "\n",
        "        x = self.conv1(x)\n",
        "        x = nn.ReLU()(x)\n",
        "        x = self.conv2(x)\n",
        "        x = nn.ReLU()(x)\n",
        "        x = self.conv3(x)\n",
        "        x = nn.ReLU()(x)\n",
        "        x = self.conv4(x)\n",
        "\n",
        "        x = nn.Sigmoid()(x)\n",
        "        #x = self.batch_norm(x)\n",
        "\n",
        "        return x\n",
        "\n",
        "\n",
        "class Autoencoder(nn.Module):\n",
        "    def __init__(self):\n",
        "        super(Autoencoder, self).__init__()\n",
        "        self.encoder = Encoder()\n",
        "        self.decoder = Decoder()\n",
        "\n",
        "    def forward(self, x):\n",
        "        x = self.encoder(x)\n",
        "        x = self.decoder(x)\n",
        "        return x\n",
        "\n",
        "# Move your model to the device (GPU if available, else CPU)\n",
        "model = Autoencoder().to(device)\n",
        "\n",
        "\n",
        "\n",
        "\n",
        "loss_func = nn.MSELoss()\n",
        " #loss_func = nn.CrossEntropyLoss()\n",
        "from torch.autograd import Variable\n",
        "\n",
        "from torch import optim\n",
        "optimizer = optim.Adam(model.parameters(), lr = learning_rate)\n",
        "\n"
      ]
    },
    {
      "cell_type": "code",
      "execution_count": null,
      "metadata": {
        "colab": {
          "base_uri": "https://localhost:8080/"
        },
        "id": "okKIIcP9P6fp",
        "outputId": "d06044a3-f8c9-4b66-ebf6-f8026c1db6a7"
      },
      "outputs": [
        {
          "name": "stdout",
          "output_type": "stream",
          "text": [
            "Epoch [1/20], Iter [100/468] Loss: 0.1237\n"
          ]
        }
      ],
      "source": [
        "list_loss_train = []\n",
        "list_accuracy_train = []\n",
        "list_loss_test = []\n",
        "list_accuracy_test = []\n",
        "\n",
        "y_pred =[]\n",
        "y_true =[]\n",
        "from torch.autograd import Variable\n",
        "seuil=0.5\n",
        "for epoch in range(num_epochs): \n",
        "    model.train()  ### Training\n",
        "    sous_list_loss_train = []\n",
        "    sous_valeur_accuracy_train = 0\n",
        "\n",
        "    for i, (images, labels_train) in enumerate(loaders['train']):\n",
        "        images = images.to(device)  # Move data to the GPU if available\n",
        "        optimizer.zero_grad()\n",
        "        outputs = model(images)\n",
        "        loss = loss_func(outputs, images)\n",
        "        loss.backward()\n",
        "        optimizer.step()\n",
        "        if (i+1) % 100 == 0:\n",
        "            print('Epoch [%d/%d], Iter [%d/%d] Loss: %.4f'\n",
        "                  % (epoch+1, num_epochs, i+1, len(train_data)//batch_size, loss.item()))\n",
        "\n",
        "\n",
        "        sous_list_loss_train.append(loss.item())\n",
        "        sous_valeur_accuracy_train =(outputs > 0.5).float().eq(images > 0.5).sum().item()\n",
        "    accuracy = (sous_valeur_accuracy_train / images.numel()) * 100\n",
        "    print(accuracy )\n",
        "\n",
        "    list_accuracy_train.append(accuracy)\n",
        "    list_loss_train.append(np.mean(sous_list_loss_train))\n",
        "\n",
        "\n",
        "\n",
        "    model.eval()\n",
        "    with torch.no_grad():\n",
        "        sous_list_loss_test = []\n",
        "        sous_valeur_accuracy_test = 0\n",
        "        for images, labels_test in loaders['test']:\n",
        "            images = images.to(device)  # Move data to the GPU if available\n",
        "            outputs = model(images)\n",
        "\n",
        "            loss = loss_func(outputs,  images)\n",
        "            sous_list_loss_test.append(loss.item())\n",
        "            sous_valeur_accuracy_test =  (outputs > 0.5).float().eq(images > 0.5).sum().item()\n",
        "        accuracy_test = (sous_valeur_accuracy_test / images.numel()) * 100\n",
        "        print(accuracy_test)\n",
        "        list_accuracy_test.append(accuracy_test)\n",
        "\n",
        "        list_loss_test.append(np.mean(sous_list_loss_test))\n"
      ]
    },
    {
      "cell_type": "code",
      "execution_count": null,
      "metadata": {
        "id": "V566n41EU7J8"
      },
      "outputs": [],
      "source": [
        "import numpy as np\n",
        "outputs = outputs.cpu().data.numpy()\n",
        "images = images.cpu().data.numpy()\n",
        "\n",
        "print (outputs.shape)\n",
        "print (images.shape)\n",
        "n = 10\n",
        "plt.figure(figsize=(20, 4))\n",
        "for i in range(n):\n",
        "    ax = plt.subplot(2, n, i+1)\n",
        "    plt.imshow(images[i][0], cmap='gray')\n",
        "    ax.get_xaxis().set_visible(False)\n",
        "    ax.get_yaxis().set_visible(False)\n",
        "\n",
        "    ax = plt.subplot(2, n, i+1+n)\n",
        "    plt.imshow(outputs[i][0], cmap='gray')\n",
        "    ax.get_xaxis().set_visible(False)\n",
        "    ax.get_yaxis().set_visible(False)\n",
        "plt.show()"
      ]
    },
    {
      "cell_type": "code",
      "execution_count": null,
      "metadata": {
        "id": "qJfhDkj1UpPk"
      },
      "outputs": [],
      "source": [
        "import matplotlib.pyplot as plt\n",
        "plt.plot(list_accuracy_train, label='Training accuracy')\n",
        "#plt.show()\n",
        "plt.plot(list_accuracy_test, label='Test accuracy')\n",
        "plt.legend()\n",
        "\n",
        "    # Show the figure\n",
        "plt.show()\n",
        "plt.plot(list_loss_train, label='Training loss')\n",
        "plt.plot(list_loss_test , label='Test loss')\n",
        "plt.legend()\n",
        "    # Show the figure\n",
        "plt.show()"
      ]
    }
  ],
  "metadata": {
    "accelerator": "GPU",
    "colab": {
      "gpuType": "T4",
      "provenance": []
    },
    "kernelspec": {
      "display_name": "Python 3",
      "name": "python3"
    },
    "language_info": {
      "name": "python"
    }
  },
  "nbformat": 4,
  "nbformat_minor": 0
}
